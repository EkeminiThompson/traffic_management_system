import tkinter as tk
from tkinter import messagebox, ttk
from sklearn.linear_model import LinearRegression
from sklearn.ensemble import RandomForestRegressor
from datetime import datetime
import pandas as pd
import matplotlib.pyplot as plt
from matplotlib.backends.backend_tkagg import FigureCanvasTkAgg
import random

# Mock data for demonstration
data = {
    'temperature': [25, 28, 30, 22, 20],
    'precipitation': [0, 0, 0.2, 0.5, 0],
    'hour': [8, 9, 10, 17, 18],
    'traffic_volume': [100, 200, 400, 300, 250]
}
df = pd.DataFrame(data)

# Feature engineering
df['is_rush_hour'] = df['hour'].apply(lambda x: 1 if (x >= 7 and x <= 9) or (x >= 16 and x <= 18) else 0)

# Model training
X = df[['temperature', 'precipitation', 'is_rush_hour']]
y = df['traffic_volume']

# Create models
linear_model = LinearRegression()
linear_model.fit(X, y)

forest_model = RandomForestRegressor(n_estimators=100, random_state=42)
forest_model.fit(X, y)

class TrafficManagementApp:
    def __init__(self, root):
        self.root = root
        self.root.title("Traffic Management System")
        self.root.geometry("1000x800")  # Set initial window size

        self.style = ttk.Style()
        self.style.theme_use('clam')  # Use a clean and modern theme

        self.create_interface()

    def create_interface(self):
        # Main frame divided vertically into 4 sections
        top_frame = tk.Frame(self.root, bg="#2E4053")  # Dark blue background
        top_frame.pack(side=tk.TOP, pady=10, padx=10, fill=tk.BOTH, expand=True)

        middle_left_frame = tk.Frame(self.root, bg="#34495E")  # Blue-gray background
        middle_left_frame.pack(side=tk.LEFT, padx=10, fill=tk.BOTH, expand=True)

        middle_right_frame = tk.Frame(self.root, bg="#34495E")  # Blue-gray background
        middle_right_frame.pack(side=tk.RIGHT, padx=10, fill=tk.BOTH, expand=True)

        bottom_frame = tk.Frame(self.root, bg="#2E4053")  # Dark blue background
        bottom_frame.pack(side=tk.BOTTOM, pady=10, padx=10, fill=tk.BOTH, expand=True)

        # Traffic Prediction Section
        self.create_traffic_prediction_section(top_frame)

        # Graph Display Section
        self.create_graph_display_section(middle_left_frame)

        # Traffic Light Control Section
        self.create_traffic_light_control_section(middle_right_frame)

        # Incident Reporting Section
        self.create_incident_reporting_section(bottom_frame)

    def create_traffic_prediction_section(self, parent):
        frame = tk.Frame(parent, bg="#5D6D7E")  # Grayish-blue background
        frame.pack(pady=10)

        location_label = tk.Label(frame, text="Select Location:", bg="#5D6D7E", fg="white")  # White text on gray-blue background
        location_label.grid(row=0, column=0, padx=5, pady=5)

        locations = [
            "Enugu-Abakaliki Expressway",
            "Enugu-Onitsha Expressway",
            "Enugu-Port Harcourt Expressway",
            "Independence Layout - New Market Road",
            "Ogui Road",
            "New Market Roundabout",
            "Coal Camp Roundabout",
            "Ogbete Main Market Junction",
            "Holy Ghost Junction",
            "Gariki Junction"
        ]
        self.location_combobox = ttk.Combobox(frame, values=locations, state="readonly")
        self.location_combobox.grid(row=0, column=1, padx=5, pady=5)
        self.location_combobox.current(0)

        date_label = tk.Label(frame, text="Enter Date (YYYY-MM-DD):", bg="#5D6D7E", fg="white")
        date_label.grid(row=1, column=0, padx=5, pady=5)

        self.date_entry = tk.Entry(frame)
        self.date_entry.grid(row=1, column=1, padx=5, pady=5)

        model_label = tk.Label(frame, text="Select Model:", bg="#5D6D7E", fg="white")
        model_label.grid(row=2, column=0, padx=5, pady=5)

        models = ["Linear Regression", "Random Forest"]
        self.model_combobox = ttk.Combobox(frame, values=models, state="readonly")
        self.model_combobox.grid(row=2, column=1, padx=5, pady=5)
        self.model_combobox.current(0)

        result_frame = tk.Frame(parent, bg="#5D6D7E")  # Grayish-blue background
        result_frame.pack(pady=10)

        predict_button = tk.Button(result_frame, text="Predict Traffic", command=self.on_submit, bg="#3498DB", fg="white")
        predict_button.pack(side=tk.LEFT, padx=5)

        clear_button = tk.Button(result_frame, text="Clear Graph", command=self.clear_graph, bg="#E74C3C", fg="white")
        clear_button.pack(side=tk.LEFT, padx=5)

        self.prediction_label = tk.Label(result_frame, text="", bg="#5D6D7E", fg="white")
        self.prediction_label.pack(pady=5)

    def create_graph_display_section(self, parent):
        graph_frame = tk.Frame(parent, bg="#34495E")  # Blue-gray background
        graph_frame.pack(pady=10, fill=tk.BOTH, expand=True)

        self.graph_canvas = FigureCanvasTkAgg(plt.figure(), master=graph_frame)
        self.graph_canvas.get_tk_widget().pack(side=tk.LEFT, fill=tk.BOTH, expand=True)

        self.analytics_label = tk.Label(parent, text="", bg="#34495E", fg="white")  # White text on blue-gray background
        self.analytics_label.pack(pady=5)

    def create_traffic_light_control_section(self, parent):
        traffic_light_frame = tk.LabelFrame(parent, text="Traffic Light Control", bg="#5D6D7E", fg="white", font=("Arial", 12, "bold"))
        traffic_light_frame.pack(padx=10, pady=10, fill=tk.BOTH, expand=True)

        self.traffic_light = tk.Label(traffic_light_frame, text="", bg="#ff0000", width=5, height=3)
        self.traffic_light.pack(padx=10, pady=10)

        self.change_traffic_light()  # Start changing the traffic light

    def change_traffic_light(self):
        def change():
            colors = {
                "Red": "#ff0000",
                "Green": "#00ff00",
                "Yellow": "#ffff00"
            }
            current_color = self.traffic_light["bg"]
            new_color = random.choice(list(colors.values()))
            while new_color == current_color:
                new_color = random.choice(list(colors.values()))
            self.traffic_light.config(bg=new_color)
            self.root.after(5000, change)

        change()

    def create_incident_reporting_section(self, parent):
        incident_frame = tk.LabelFrame(parent, text="Incident Reporting", bg="#5D6D7E", fg="white", font=("Arial", 12, "bold"))
        incident_frame.pack(padx=10, pady=10, fill=tk.BOTH, expand=True)

        location_label = tk.Label(incident_frame, text="Location:", bg="#5D6D7E", fg="white")
        location_label.grid(row=0, column=0, padx=5, pady=5)

        self.incident_location_entry = tk.Entry(incident_frame)
        self.incident_location_entry.grid(row=0, column=1, padx=5, pady=5)

        description_label = tk.Label(incident_frame, text="Description:", bg="#5D6D7E", fg="white")
        description_label.grid(row=1, column=0, padx=5, pady=5)

        self.incident_description_text = tk.Text(incident_frame, height=4)
        self.incident_description_text.grid(row=1, column=1, padx=5, pady=5)

        report_button = tk.Button(incident_frame, text="Report Incident", command=self.submit_incident_report, bg="#E74C3C", fg="white")
        report_button.grid(row=2, columnspan=2, pady=10)

    def submit_incident_report(self):
        location = self.incident_location_entry.get()
        description = self.incident_description_text.get("1.0", tk.END).strip()
        if location and description:
            self.report_incident(location, description)
            messagebox.showinfo("Incident Reported", "Your incident report has been submitted.")
            self.incident_location_entry.delete(0, tk.END)
            self.incident_description_text.delete("1.0", tk.END)
        else:
            messagebox.showerror("Error", "Please enter both location and description.")

    def report_incident(self, location, description):
        # Implement incident reporting logic here (e.g., save to file or database)
        print(f"Incident reported at {location}: {description}")

    def on_submit(self):
        location = self.location_combobox.get()
        date_str = self.date_entry.get()
        model_choice = self.model_combobox.get()

        # Validate date format
        try:
            date = datetime.strptime(date_str, "%Y-%m-%d")
        except ValueError:
            messagebox.showerror("Invalid Date", "Please enter a valid date in YYYY-MM-DD format.")
            return

        # Mock input features for prediction
        temperature = random.uniform(15, 35)  # Random temperature between 15 and 35
        precipitation = random.uniform(0, 1)  # Random precipitation between 0 and 1
        is_rush_hour = 1 if (date.hour >= 7 and date.hour <= 9) or (date.hour >= 16 and date.hour <= 18) else 0

        input_features = [[temperature, precipitation, is_rush_hour]]

        if model_choice == "Linear Regression":
            prediction = linear_model.predict(input_features)[0]
        elif model_choice == "Random Forest":
            prediction = forest_model.predict(input_features)[0]
        else:
            messagebox.showerror("Invalid Model", "Please select a valid model.")
            return

        self.prediction_label.config(text=f"Predicted Traffic Volume for {location} on {date_str}: {int(prediction)} vehicles")

        # Display the updated graph
        self.update_graph(location, date_str, int(prediction))

    def clear_graph(self):
        plt.clf()
        self.graph_canvas.draw()

    def update_graph(self, location, date_str, prediction):
        # Convert the date_str to a datetime object
        prediction_date = datetime.strptime(date_str, "%Y-%m-%d")
        
        # Mock historical data for demonstration purposes
        if prediction_date.year <= 2023:
            dates = pd.date_range(start=date_str, periods=5).tolist()
            historical_traffic = [random.randint(50, 300) for _ in range(5)]
        else:
            dates = pd.date_range(start=date_str, periods=5).tolist()
            historical_traffic = [None] * 5  # No historical data beyond 2023

        # Update the graph with new data
        plt.clf()
        plt.plot(dates, historical_traffic, marker='o', linestyle='-', color='b', label='Historical Traffic')
        plt.axvline(pd.Timestamp(date_str), color='r', linestyle='--', label='Prediction Date')
        plt.scatter([pd.Timestamp(date_str)], [prediction], color='g', s=100, zorder=5, label='Predicted Traffic')
        plt.title(f"Traffic Volume Prediction for {location}")
        plt.xlabel("Date")
        plt.ylabel("Traffic Volume")
        plt.legend()
        self.graph_canvas.draw()

        # Update analytics label
        filtered_traffic = list(filter(None, historical_traffic))
        if filtered_traffic:
            avg_traffic = sum(filtered_traffic) / len(filtered_traffic)
            self.analytics_label.config(text=f"Average historical traffic volume: {avg_traffic:.2f} vehicles/day")
        else:
            self.analytics_label.config(text="No historical traffic data available.")

if __name__ == "__main__":
    root = tk.Tk()
    app = TrafficManagementApp(root)
    root.mainloop()
